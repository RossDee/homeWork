{
 "cells": [
  {
   "cell_type": "code",
   "execution_count": 1,
   "metadata": {},
   "outputs": [
    {
     "name": "stdout",
     "output_type": "stream",
     "text": [
      "Please input your number:10\n",
      "Too big\n"
     ]
    }
   ],
   "source": [
    "##\n",
    "number = int(input('Please input your number:'))\n",
    "if number> 5:\n",
    "    print('Too big')\n",
    "elif number < 5:\n",
    "    print('Too small')\n",
    "else:\n",
    "    print('Just equal')"
   ]
  },
  {
   "cell_type": "code",
   "execution_count": 13,
   "metadata": {
    "scrolled": true
   },
   "outputs": [
    {
     "ename": "IndentationError",
     "evalue": "unexpected indent (<ipython-input-13-b9257b357c3d>, line 5)",
     "output_type": "error",
     "traceback": [
      "\u001b[0;36m  File \u001b[0;32m\"<ipython-input-13-b9257b357c3d>\"\u001b[0;36m, line \u001b[0;32m5\u001b[0m\n\u001b[0;31m    break\u001b[0m\n\u001b[0m    ^\u001b[0m\n\u001b[0;31mIndentationError\u001b[0m\u001b[0;31m:\u001b[0m unexpected indent\n"
     ]
    }
   ],
   "source": [
    "num1 = int(input('Please input your number1:'))\n",
    "num2 = int(input('Please input your number2:'))\n",
    "count = num1\n",
    "sum = 0\n",
    "\n",
    "while count <= num2:\n",
    "    sum = sum + count\n",
    "    count += 1\n",
    "print(sum) "
   ]
  },
  {
   "cell_type": "code",
   "execution_count": 33,
   "metadata": {},
   "outputs": [
    {
     "data": {
      "text/plain": [
       "(6, 7, 8)"
      ]
     },
     "execution_count": 33,
     "metadata": {},
     "output_type": "execute_result"
    }
   ],
   "source": [
    "###编写一个程序，读入一个三位整数num，求出num的百位数字、十位数字和个位数字\n",
    "## //取整数，返回除法的整数部分（商）\n",
    "## %取余数，返回除法的余数\n",
    "def readNum(a):\n",
    "    ##x,百位数，y，十位数，z，个位数\n",
    "    x = a//100%10\n",
    "    y = a//10%10\n",
    "    z = a//1%10\n",
    "    return(x,y,z)\n",
    "\n",
    "\n",
    "readNum(3678)"
   ]
  },
  {
   "cell_type": "code",
   "execution_count": 6,
   "metadata": {
    "pycharm": {
     "is_executing": false
    }
   },
   "outputs": [],
   "source": [
    "##输入鸡和兔的总数量n和腿的总数m，程序判断是否能运算，如能就输出鸡和兔的数量\n",
    "## 设鸡数量x,兔数量y,n= x+y,m=2x+4y, 消元法后，y=(m-2n)/2\n",
    "def calCount(n,m):\n",
    "    chickenCount =(m - 2*n)/2\n",
    "    rabbitCount = n - chickenCount    \n",
    "    return chickenCount,rabbitCount\n",
    "\n",
    "\n",
    "    "
   ]
  },
  {
   "cell_type": "code",
   "execution_count": 10,
   "metadata": {},
   "outputs": [
    {
     "data": {
      "text/plain": [
       "(3.0, 0.0)"
      ]
     },
     "execution_count": 10,
     "metadata": {},
     "output_type": "execute_result"
    }
   ],
   "source": [
    "calCount(3,12)"
   ]
  },
  {
   "cell_type": "code",
   "execution_count": 62,
   "metadata": {},
   "outputs": [
    {
     "name": "stdout",
     "output_type": "stream",
     "text": [
      "Please input string：cccufk\n"
     ]
    },
    {
     "data": {
      "text/plain": [
       "['0', '1', '7']"
      ]
     },
     "execution_count": 62,
     "metadata": {},
     "output_type": "execute_result"
    }
   ],
   "source": [
    "##输入一个字符串，去掉重复的字符后，按照字符的ASCII码值从大到小输出\n",
    "##逐个比对字符串中的字符，然后将不重复的字符返回\n",
    "def deDuplicationAndQueuebyASCII(x):\n",
    "    x1 = ''\n",
    "    for char in x:\n",
    "        if not char in x1:\n",
    "            x1 += char\n",
    "    for charx2 in x1:\n",
    "        x2 = ord(charx2)\n",
    "    x3 = sorted(str(x2))\n",
    "    \n",
    "    return x3\n",
    "x = input('Please input string：')\n",
    "deDuplicationAndQueuebyASCII(x)\n"
   ]
  },
  {
   "cell_type": "code",
   "execution_count": null,
   "metadata": {},
   "outputs": [],
   "source": [
    "##输入两个十进制正整数n和base，将n转换为base进制后输出。要求调用函数，功能是输出n的base进制\n"
   ]
  }
 ],
 "metadata": {
  "kernelspec": {
   "display_name": "Python 3",
   "language": "python",
   "name": "python3"
  },
  "language_info": {
   "codemirror_mode": {
    "name": "ipython",
    "version": 3
   },
   "file_extension": ".py",
   "mimetype": "text/x-python",
   "name": "python",
   "nbconvert_exporter": "python",
   "pygments_lexer": "ipython3",
   "version": "3.7.4"
  },
  "pycharm": {
   "stem_cell": {
    "cell_type": "raw",
    "metadata": {
     "collapsed": false
    },
    "source": []
   }
  }
 },
 "nbformat": 4,
 "nbformat_minor": 1
}
